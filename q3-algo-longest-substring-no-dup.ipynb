{
 "cells": [
  {
   "cell_type": "code",
   "execution_count": 1,
   "id": "a1b5badb-18c9-4673-89c5-eb784ef5267e",
   "metadata": {},
   "outputs": [
    {
     "name": "stdin",
     "output_type": "stream",
     "text": [
      "input:  AABBCCD\n"
     ]
    },
    {
     "name": "stdout",
     "output_type": "stream",
     "text": [
      "output: CD length: 2\n",
      "output: AB length: 2\n",
      "output: BC length: 2\n"
     ]
    }
   ],
   "source": [
    "#Question_1\n",
    "def lengthOfLongestSubstring(s):\n",
    "    if s == '':\n",
    "        return [], 0  # Boş string durumunu ele al\n",
    "\n",
    "    maxLen = 0\n",
    "    substrings = set()  # Tüm en uzun alt dizileri tutmak için bir set\n",
    "\n",
    "    for i in range(len(s)):\n",
    "        substring = s[i]  # Alt diziyi başlat\n",
    "        for j in range(i+1, len(s)):\n",
    "            if s[j] not in substring:  # Eğer tekrar eden karakter yoksa alt diziye ekle\n",
    "                substring += s[j]\n",
    "                # Eğer yeni alt dizinin uzunluğu daha büyükse:\n",
    "                if len(substring) > maxLen:\n",
    "                    maxLen = len(substring)\n",
    "                    substrings = {substring}  # Eski sonuçları sil, yeni alt diziyi ekle\n",
    "                elif len(substring) == maxLen:\n",
    "                    substrings.add(substring)  # Eğer uzunluk eşitse alt diziyi ekle\n",
    "            else:\n",
    "                break  # Tekrar eden karakter bulunursa döngüyü kır\n",
    "    return list(substrings), maxLen\n",
    "\n",
    "\n",
    "if __name__ == \"__main__\":\n",
    "    input_string = input(\"input: \").strip()  # Komut satırından input al\n",
    "    substrings, length = lengthOfLongestSubstring(input_string)\n",
    "    for substring in substrings:\n",
    "        print(f\"output: {substring} length: {length}\")"
   ]
  },
  {
   "cell_type": "code",
   "execution_count": 3,
   "id": "88eb108f-f22f-49ba-baa5-a8ae357af49c",
   "metadata": {},
   "outputs": [
    {
     "name": "stdin",
     "output_type": "stream",
     "text": [
      "Input string:  ABBCDDEFGHII\n"
     ]
    },
    {
     "name": "stdout",
     "output_type": "stream",
     "text": [
      "output: DEFGHI length: 6\n"
     ]
    }
   ],
   "source": [
    "#Question 1  alternatf OOP çözümü\n",
    "class LongestSubstringFinder:\n",
    "    def __init__(self, input_string: str):\n",
    "        \n",
    "        self.input_string = input_string.strip()  # Stringin başındaki ve sonundaki boşlukları temizler\n",
    "        if not isinstance(self.input_string, str):\n",
    "            raise ValueError(\"Input must be a string.\")\n",
    "        if len(self.input_string) == 0:\n",
    "            raise ValueError(\"Input string cannot be empty.\")\n",
    "\n",
    "    def find_longest_substrings(self):\n",
    "        \n",
    "        max_len = 0\n",
    "        substrings = set()  # En uzun alt dizileri tutmak için bir set\n",
    "        \n",
    "       \n",
    "        for i in range(len(self.input_string)):\n",
    "            substring = self.input_string[i]  # Alt diziyi başlat\n",
    "            for j in range(i + 1, len(self.input_string)):\n",
    "                if self.input_string[j] not in substring:  # Eğer tekrar eden karakter yoksa\n",
    "                    substring += self.input_string[j]\n",
    "                    # Eğer yeni alt dizinin uzunluğu daha büyükse\n",
    "                    if len(substring) > max_len:\n",
    "                        max_len = len(substring)\n",
    "                        substrings = {substring}  # Eski alt dizileri sil, yeni alt diziyi ekle\n",
    "                    elif len(substring) == max_len:\n",
    "                        substrings.add(substring)  # Uzunluk eşitse alt diziyi ekle\n",
    "                else:\n",
    "                    break  # Tekrar eden karakter bulunursa döngüyü kır\n",
    "        return list(substrings), max_len\n",
    "\n",
    "    def display_result(self):\n",
    "\n",
    "        substrings, length = self.find_longest_substrings()\n",
    "        if substrings:\n",
    "            for substring in substrings:\n",
    "                print(f\"output: {substring} length: {length}\")\n",
    "        else:\n",
    "            print(\"No unique substrings found.\")\n",
    "\n",
    "\n",
    "if __name__ == \"__main__\":\n",
    "    try:\n",
    "        input_string = input(\"Input string: \").strip()  # Komut satırından input al\n",
    "        finder = LongestSubstringFinder(input_string)\n",
    "        finder.display_result()\n",
    "    except ValueError as e:\n",
    "        print(f\"Error: {e}\")\n"
   ]
  },
  {
   "cell_type": "code",
   "execution_count": null,
   "id": "867b768f-704d-4c98-ad84-592c8d72969a",
   "metadata": {},
   "outputs": [],
   "source": [
    "\n",
    "\n"
   ]
  }
 ],
 "metadata": {
  "kernelspec": {
   "display_name": "Python 3 (ipykernel)",
   "language": "python",
   "name": "python3"
  },
  "language_info": {
   "codemirror_mode": {
    "name": "ipython",
    "version": 3
   },
   "file_extension": ".py",
   "mimetype": "text/x-python",
   "name": "python",
   "nbconvert_exporter": "python",
   "pygments_lexer": "ipython3",
   "version": "3.12.2"
  }
 },
 "nbformat": 4,
 "nbformat_minor": 5
}
